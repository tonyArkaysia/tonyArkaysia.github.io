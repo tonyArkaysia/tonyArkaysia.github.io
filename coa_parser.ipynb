{
 "cells": [
  {
   "cell_type": "code",
   "execution_count": null,
   "id": "fbb027f6",
   "metadata": {},
   "outputs": [],
   "source": []
  },
  {
   "cell_type": "code",
   "execution_count": 3,
   "id": "9190cc6c",
   "metadata": {},
   "outputs": [
    {
     "data": {
      "text/plain": [
       "(55.4508,\n",
       " 2.5812,\n",
       "           Cannabinoid  Percentage\n",
       " 0  Total Cannabinoids     29.9300\n",
       " 1           Total THC     25.4300\n",
       " 2           Total CBD      0.0858\n",
       " 3                 THC      0.0010\n",
       " 4                 CBG      0.0010,\n",
       "      Terpene  Percentage\n",
       " 0   Limonene      1.2330\n",
       " 1  Farnesene      0.8712\n",
       " 2   Linalool      0.4760\n",
       " 3       THCV      0.0010)"
      ]
     },
     "execution_count": 3,
     "metadata": {},
     "output_type": "execute_result"
    }
   ],
   "source": [
    "from PyPDF2 import PdfReader\n",
    "import re\n",
    "import pandas as pd\n",
    "\n",
    "# Load and read the Goof Off COA PDF\n",
    "reader = PdfReader(\"Doobie_Labs_-_White_Widow_-21725.pdf\")\n",
    "text = \"\"\n",
    "for page in reader.pages:\n",
    "    text += page.extract_text()\n",
    "\n",
    "# Extract cannabinoids and terpene values\n",
    "cannabinoids_pattern = re.compile(r\"(THC|CBD|Total Cannabinoids|Total THC|Total CBD|CBG|CBN|CBC|THCV)[^\\d]*(\\d+\\.\\d+)%?\")\n",
    "terpenes_pattern = re.compile(r\"(Myrcene|Limonene|Caryophyllene|Linalool|Pinene|Humulene|Terpinolene|Ocimene|Farnesene|Bisabolol|Nerolidol|THCV)[^\\d]*(\\d+\\.\\d+)%?\")\n",
    "\n",
    "cannabinoids = cannabinoids_pattern.findall(text)\n",
    "terpenes = terpenes_pattern.findall(text)\n",
    "\n",
    "# Create dataframes for cannabinoids and terpenes\n",
    "cannabinoid_df = pd.DataFrame(cannabinoids, columns=[\"Cannabinoid\", \"Percentage\"]).drop_duplicates()\n",
    "terpene_df = pd.DataFrame(terpenes, columns=[\"Terpene\", \"Percentage\"]).drop_duplicates()\n",
    "\n",
    "# Convert percentages to floats\n",
    "cannabinoid_df[\"Percentage\"] = cannabinoid_df[\"Percentage\"].astype(float)\n",
    "terpene_df[\"Percentage\"] = terpene_df[\"Percentage\"].astype(float)\n",
    "\n",
    "# Calculate totals\n",
    "total_cannabinoids = cannabinoid_df[\"Percentage\"].sum()\n",
    "total_terpenes = terpene_df[\"Percentage\"].sum()\n",
    "\n",
    "# Sort for display\n",
    "cannabinoid_df = cannabinoid_df.sort_values(by=\"Percentage\", ascending=False).reset_index(drop=True)\n",
    "terpene_df = terpene_df.sort_values(by=\"Percentage\", ascending=False).reset_index(drop=True)\n",
    "\n",
    "total_cannabinoids, total_terpenes, cannabinoid_df.head(), terpene_df.head()\n"
   ]
  }
 ],
 "metadata": {
  "kernelspec": {
   "display_name": "PyTF",
   "language": "python",
   "name": "python3"
  },
  "language_info": {
   "codemirror_mode": {
    "name": "ipython",
    "version": 3
   },
   "file_extension": ".py",
   "mimetype": "text/x-python",
   "name": "python",
   "nbconvert_exporter": "python",
   "pygments_lexer": "ipython3",
   "version": "3.8.18"
  }
 },
 "nbformat": 4,
 "nbformat_minor": 5
}
